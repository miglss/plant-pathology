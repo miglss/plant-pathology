{
 "cells": [
  {
   "cell_type": "code",
   "execution_count": null,
   "id": "8dd46a25-980a-40ff-94e1-e443bdaf0e5e",
   "metadata": {},
   "outputs": [],
   "source": [
    "import pandas as pd\n",
    "import numpy as np\n",
    "from tqdm import tqdm\n",
    "import os\n",
    "import matplotlib.pyplot as plt\n",
    "import seaborn as sns\n",
    "%matplotlib inline\n",
    "\n",
    "import torch\n",
    "import torch.nn as nn\n",
    "from torch.nn import CrossEntropyLoss\n",
    "from torch.utils.data import DataLoader, Dataset, random_split\n",
    "\n",
    "import albumentations as A\n",
    "from albumentations.pytorch.transforms import ToTensorV2\n",
    "\n",
    "import cv2\n",
    "import torchvision\n",
    "from torchvision import transforms as T\n",
    "from torchvision import datasets, models\n",
    "from torchvision.datasets import ImageFolder\n",
    "\n",
    "import sklearn\n",
    "from sklearn.preprocessing import LabelEncoder\n",
    "from sklearn.model_selection import train_test_split\n",
    "from sklearn.metrics import f1_score, accuracy_score\n",
    "\n",
    "import wandb\n",
    "\n",
    "# custom functions from my repo\n",
    "%cd plant-pathology\n",
    "from custom_functions.functions import get_images_shape, preprocess_csv\n",
    "%cd ..\n",
    "\n",
    "device = 'cuda' if torch.cuda.is_available() else 'cpu'"
   ]
  },
  {
   "cell_type": "code",
   "execution_count": null,
   "id": "6c731930-9fba-49c9-98d9-c50f39046667",
   "metadata": {},
   "outputs": [],
   "source": [
    "# set seed for reproducibility\n",
    "LUCKY_SEED = 42\n",
    "torch.manual_seed(LUCKY_SEED)\n",
    "torch.backends.cudnn.deterministic = True\n",
    "if torch.cuda.is_available():\n",
    "    torch.cuda.manual_seed_all(LUCKY_SEED)\n",
    "np.random.seed(LUCKY_SEED)"
   ]
  },
  {
   "cell_type": "code",
   "execution_count": null,
   "id": "df9af8db-e679-4743-a02d-4edcde923bfa",
   "metadata": {},
   "outputs": [],
   "source": [
    "dir_path = '....' # add your images path here\n",
    "test = pd.read_csv(\"....\") # add your .csv path here"
   ]
  },
  {
   "cell_type": "code",
   "execution_count": null,
   "id": "b1188ffe-6f8c-42c7-a645-54010bbce164",
   "metadata": {},
   "outputs": [],
   "source": [
    "class TestDataset(Dataset):\n",
    "    def __init__(self, path, csv, transform = None):\n",
    "        self.path = path\n",
    "        self.csv = csv\n",
    "        self.transform = transform\n",
    "        \n",
    "    def __len__(self):\n",
    "        return len(self.csv)\n",
    "    \n",
    "    def __getitem__(self, index):\n",
    "        img_path = os.path.join(self.path, self.csv.iloc[index, 0]) + \".jpg\"\n",
    "        img = cv2.imread(img_path)\n",
    "        img = cv2.cvtColor(img, cv2.COLOR_BGR2RGB)\n",
    "        \n",
    "        if self.transform:\n",
    "            aug = self.transform(image = img)\n",
    "            img = aug[\"image\"]\n",
    "            \n",
    "        return img"
   ]
  },
  {
   "cell_type": "code",
   "execution_count": null,
   "id": "cbe3ee3f-3924-4839-beb4-a52731df3ceb",
   "metadata": {},
   "outputs": [],
   "source": [
    "my_transform_test = A.Compose([\n",
    "    A.Resize(300, 300),\n",
    "    A.Normalize(mean=[0.485, 0.456, 0.406], std=[0.229, 0.224, 0.225]),\n",
    "    ToTensorV2()\n",
    "])"
   ]
  },
  {
   "cell_type": "code",
   "execution_count": null,
   "id": "bfe303bc-661b-4ba2-ba99-4038bbdbb9d4",
   "metadata": {},
   "outputs": [],
   "source": [
    "test_dataset = TestDataset(dir_path, test, transform = my_transform_test)\n",
    "\n",
    "testloader = DataLoader(test_dataset, batch_size = 16, shuffle = False)"
   ]
  },
  {
   "cell_type": "code",
   "execution_count": null,
   "id": "6ed62dda-071e-4401-9b35-109f5eb637fa",
   "metadata": {},
   "outputs": [],
   "source": [
    "model = models.efficientnet_b3(pretrained = True)\n",
    "\n",
    "class classifier_head(nn.Module):\n",
    "    def __init__(self):\n",
    "        super(classifier_head, self).__init__()\n",
    "        self.fc1 = nn.Linear(1536, 128)\n",
    "        self.fc2 = nn.Linear(128, 4)\n",
    "        self.relu = nn.ReLU()\n",
    "        self.dropout = nn.Dropout(p = 0.15)\n",
    "        \n",
    "    def forward(self, x):\n",
    "        x = self.dropout(x)\n",
    "        x = self.relu(self.fc1(x))\n",
    "        x = self.fc2(x)\n",
    "        \n",
    "        return x\n",
    "\n",
    "model.classifier = classifier_head()\n",
    "model.load_state_dict(torch.load('weights.pt')) # load weights from trained model\n",
    "model.eval()"
   ]
  },
  {
   "cell_type": "code",
   "execution_count": null,
   "id": "26e92004-fce8-4f2d-9eed-d3dc4a7913a8",
   "metadata": {},
   "outputs": [],
   "source": [
    "# get predictions\n",
    "predicted = []\n",
    "with torch.no_grad():\n",
    "    for data in tqdm(testloader, total = len(testloader)):\n",
    "        data = data.float().to(device)\n",
    "        probs = model(data)\n",
    "        predicted.append(np.argmax(probs.cpu(), axis = 1))\n",
    "\n",
    "# save predictions into new .csv file       \n",
    "predicted = np.concatenate(predicted)\n",
    "test['predictions'] = predicted\n",
    "test.to_csv('test_predictions.csv', index = False)"
   ]
  }
 ],
 "metadata": {
  "kernelspec": {
   "display_name": "Python 3 (ipykernel)",
   "language": "python",
   "name": "python3"
  },
  "language_info": {
   "codemirror_mode": {
    "name": "ipython",
    "version": 3
   },
   "file_extension": ".py",
   "mimetype": "text/x-python",
   "name": "python",
   "nbconvert_exporter": "python",
   "pygments_lexer": "ipython3",
   "version": "3.9.13"
  }
 },
 "nbformat": 4,
 "nbformat_minor": 5
}
