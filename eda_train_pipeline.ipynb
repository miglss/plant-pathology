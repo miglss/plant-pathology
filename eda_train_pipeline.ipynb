{
 "cells": [
  {
   "cell_type": "code",
   "execution_count": null,
   "metadata": {
    "_cell_guid": "b1076dfc-b9ad-4769-8c92-a6c4dae69d19",
    "_uuid": "8f2839f25d086af736a60e9eeb907d3b93b6e0e5",
    "tags": []
   },
   "outputs": [],
   "source": [
    "import pandas as pd\n",
    "import numpy as np\n",
    "from tqdm import tqdm\n",
    "import os\n",
    "import matplotlib.pyplot as plt\n",
    "import seaborn as sns\n",
    "%matplotlib inline\n",
    "\n",
    "import torch\n",
    "import torch.nn as nn\n",
    "from torch.nn import CrossEntropyLoss\n",
    "from torch.utils.data import DataLoader, Dataset, random_split\n",
    "\n",
    "import albumentations as A\n",
    "from albumentations.pytorch.transforms import ToTensorV2\n",
    "\n",
    "import cv2\n",
    "import torchvision\n",
    "from torchvision import transforms as T\n",
    "from torchvision import datasets, models\n",
    "from torchvision.datasets import ImageFolder\n",
    "\n",
    "import sklearn\n",
    "from sklearn.preprocessing import LabelEncoder\n",
    "from sklearn.model_selection import train_test_split\n",
    "from sklearn.metrics import f1_score, accuracy_score\n",
    "\n",
    "import wandb\n",
    "\n",
    "# custom functions from my repo\n",
    "%cd plant-pathology\n",
    "from custom_functions.functions import get_images_shape, preprocess_csv\n",
    "%cd ..\n",
    "\n",
    "device = 'cuda' if torch.cuda.is_available() else 'cpu'"
   ]
  },
  {
   "cell_type": "code",
   "execution_count": null,
   "metadata": {
    "tags": []
   },
   "outputs": [],
   "source": [
    "wandb.login()"
   ]
  },
  {
   "cell_type": "code",
   "execution_count": null,
   "metadata": {},
   "outputs": [],
   "source": [
    "# set seed for reproducibility\n",
    "LUCKY_SEED = 42\n",
    "torch.manual_seed(LUCKY_SEED)\n",
    "torch.backends.cudnn.deterministic = True\n",
    "if torch.cuda.is_available():\n",
    "    torch.cuda.manual_seed_all(LUCKY_SEED)\n",
    "np.random.seed(LUCKY_SEED)"
   ]
  },
  {
   "cell_type": "markdown",
   "metadata": {},
   "source": [
    "## EDA\n",
    "### First let's take a look at the width/height distribution of the images. This will come in handy for specifying custom datasets later"
   ]
  },
  {
   "cell_type": "code",
   "execution_count": 2,
   "metadata": {
    "execution": {
     "iopub.execute_input": "2023-05-11T16:08:50.772245Z",
     "iopub.status.busy": "2023-05-11T16:08:50.770794Z",
     "iopub.status.idle": "2023-05-11T16:12:24.597902Z",
     "shell.execute_reply": "2023-05-11T16:12:24.596647Z",
     "shell.execute_reply.started": "2023-05-11T16:08:50.772172Z"
    }
   },
   "outputs": [],
   "source": [
    "dir_path = '/images_folder'\n",
    "\n",
    "height, width = get_images_shape(dir_path)"
   ]
  },
  {
   "cell_type": "code",
   "execution_count": 21,
   "metadata": {
    "execution": {
     "iopub.execute_input": "2023-05-11T16:26:38.934462Z",
     "iopub.status.busy": "2023-05-11T16:26:38.933804Z",
     "iopub.status.idle": "2023-05-11T16:26:39.597868Z",
     "shell.execute_reply": "2023-05-11T16:26:39.596291Z",
     "shell.execute_reply.started": "2023-05-11T16:26:38.934418Z"
    }
   },
   "outputs": [
    {
     "data": {
      "image/png": "[encoded data removed]",
      "text/plain": [
       "<Figure size 2000x1000 with 2 Axes>"
      ]
     },
     "metadata": {},
     "output_type": "display_data"
    }
   ],
   "source": [
    "figure, (ax1, ax2) = plt.subplots(1, 2, figsize = (20, 10))\n",
    "\n",
    "ax1.hist(height)\n",
    "ax1.set_title(\"height distribution\")\n",
    "\n",
    "ax2.hist(width)\n",
    "ax2.set_title(\"width_distribution\")\n",
    "\n",
    "figure.show()"
   ]
  },
  {
   "cell_type": "markdown",
   "metadata": {},
   "source": [
    "### All images are about 1400x2000. This is quite a lot, so resize will be required"
   ]
  },
  {
   "cell_type": "markdown",
   "metadata": {},
   "source": [
    "### Now let's look at train.csv, which contains labels of all images"
   ]
  },
  {
   "cell_type": "code",
   "execution_count": 4,
   "metadata": {
    "execution": {
     "iopub.execute_input": "2023-05-11T17:58:31.259132Z",
     "iopub.status.busy": "2023-05-11T17:58:31.258674Z",
     "iopub.status.idle": "2023-05-11T17:58:31.286644Z",
     "shell.execute_reply": "2023-05-11T17:58:31.285716Z",
     "shell.execute_reply.started": "2023-05-11T17:58:31.259094Z"
    }
   },
   "outputs": [],
   "source": [
    "train = pd.read_csv(\"train.csv\")"
   ]
  },
  {
   "cell_type": "code",
   "execution_count": 16,
   "metadata": {
    "execution": {
     "iopub.execute_input": "2023-05-11T16:21:24.050693Z",
     "iopub.status.busy": "2023-05-11T16:21:24.050256Z",
     "iopub.status.idle": "2023-05-11T16:21:24.065160Z",
     "shell.execute_reply": "2023-05-11T16:21:24.063998Z",
     "shell.execute_reply.started": "2023-05-11T16:21:24.050661Z"
    }
   },
   "outputs": [
    {
     "data": {
      "text/html": [
       "<div>\n",
       "<style scoped>\n",
       "    .dataframe tbody tr th:only-of-type {\n",
       "        vertical-align: middle;\n",
       "    }\n",
       "\n",
       "    .dataframe tbody tr th {\n",
       "        vertical-align: top;\n",
       "    }\n",
       "\n",
       "    .dataframe thead th {\n",
       "        text-align: right;\n",
       "    }\n",
       "</style>\n",
       "<table border=\"1\" class=\"dataframe\">\n",
       "  <thead>\n",
       "    <tr style=\"text-align: right;\">\n",
       "      <th></th>\n",
       "      <th>image_id</th>\n",
       "      <th>healthy</th>\n",
       "      <th>multiple_diseases</th>\n",
       "      <th>rust</th>\n",
       "      <th>scab</th>\n",
       "    </tr>\n",
       "  </thead>\n",
       "  <tbody>\n",
       "    <tr>\n",
       "      <th>0</th>\n",
       "      <td>Train_0</td>\n",
       "      <td>0</td>\n",
       "      <td>0</td>\n",
       "      <td>0</td>\n",
       "      <td>1</td>\n",
       "    </tr>\n",
       "    <tr>\n",
       "      <th>1</th>\n",
       "      <td>Train_1</td>\n",
       "      <td>0</td>\n",
       "      <td>1</td>\n",
       "      <td>0</td>\n",
       "      <td>0</td>\n",
       "    </tr>\n",
       "    <tr>\n",
       "      <th>2</th>\n",
       "      <td>Train_2</td>\n",
       "      <td>1</td>\n",
       "      <td>0</td>\n",
       "      <td>0</td>\n",
       "      <td>0</td>\n",
       "    </tr>\n",
       "    <tr>\n",
       "      <th>3</th>\n",
       "      <td>Train_3</td>\n",
       "      <td>0</td>\n",
       "      <td>0</td>\n",
       "      <td>1</td>\n",
       "      <td>0</td>\n",
       "    </tr>\n",
       "    <tr>\n",
       "      <th>4</th>\n",
       "      <td>Train_4</td>\n",
       "      <td>1</td>\n",
       "      <td>0</td>\n",
       "      <td>0</td>\n",
       "      <td>0</td>\n",
       "    </tr>\n",
       "    <tr>\n",
       "      <th>...</th>\n",
       "      <td>...</td>\n",
       "      <td>...</td>\n",
       "      <td>...</td>\n",
       "      <td>...</td>\n",
       "      <td>...</td>\n",
       "    </tr>\n",
       "    <tr>\n",
       "      <th>1816</th>\n",
       "      <td>Train_1816</td>\n",
       "      <td>0</td>\n",
       "      <td>0</td>\n",
       "      <td>0</td>\n",
       "      <td>1</td>\n",
       "    </tr>\n",
       "    <tr>\n",
       "      <th>1817</th>\n",
       "      <td>Train_1817</td>\n",
       "      <td>1</td>\n",
       "      <td>0</td>\n",
       "      <td>0</td>\n",
       "      <td>0</td>\n",
       "    </tr>\n",
       "    <tr>\n",
       "      <th>1818</th>\n",
       "      <td>Train_1818</td>\n",
       "      <td>1</td>\n",
       "      <td>0</td>\n",
       "      <td>0</td>\n",
       "      <td>0</td>\n",
       "    </tr>\n",
       "    <tr>\n",
       "      <th>1819</th>\n",
       "      <td>Train_1819</td>\n",
       "      <td>0</td>\n",
       "      <td>0</td>\n",
       "      <td>1</td>\n",
       "      <td>0</td>\n",
       "    </tr>\n",
       "    <tr>\n",
       "      <th>1820</th>\n",
       "      <td>Train_1820</td>\n",
       "      <td>0</td>\n",
       "      <td>0</td>\n",
       "      <td>0</td>\n",
       "      <td>1</td>\n",
       "    </tr>\n",
       "  </tbody>\n",
       "</table>\n",
       "<p>1821 rows × 5 columns</p>\n",
       "</div>"
      ],
      "text/plain": [
       "        image_id  healthy  multiple_diseases  rust  scab\n",
       "0        Train_0        0                  0     0     1\n",
       "1        Train_1        0                  1     0     0\n",
       "2        Train_2        1                  0     0     0\n",
       "3        Train_3        0                  0     1     0\n",
       "4        Train_4        1                  0     0     0\n",
       "...          ...      ...                ...   ...   ...\n",
       "1816  Train_1816        0                  0     0     1\n",
       "1817  Train_1817        1                  0     0     0\n",
       "1818  Train_1818        1                  0     0     0\n",
       "1819  Train_1819        0                  0     1     0\n",
       "1820  Train_1820        0                  0     0     1\n",
       "\n",
       "[1821 rows x 5 columns]"
      ]
     },
     "execution_count": 16,
     "metadata": {},
     "output_type": "execute_result"
    }
   ],
   "source": [
    "train"
   ]
  },
  {
   "cell_type": "markdown",
   "metadata": {},
   "source": [
    "### There is a separate column for each class, which is not very convenient. Let's convert the data to a single column format, where each class corresponds to a different number (1,2, ... etc.)"
   ]
  },
  {
   "cell_type": "code",
   "execution_count": 5,
   "metadata": {
    "execution": {
     "iopub.execute_input": "2023-05-11T17:58:36.277830Z",
     "iopub.status.busy": "2023-05-11T17:58:36.277239Z",
     "iopub.status.idle": "2023-05-11T17:58:36.891513Z",
     "shell.execute_reply": "2023-05-11T17:58:36.890398Z",
     "shell.execute_reply.started": "2023-05-11T17:58:36.277797Z"
    }
   },
   "outputs": [
    {
     "data": {
      "text/html": [
       "<div>\n",
       "<style scoped>\n",
       "    .dataframe tbody tr th:only-of-type {\n",
       "        vertical-align: middle;\n",
       "    }\n",
       "\n",
       "    .dataframe tbody tr th {\n",
       "        vertical-align: top;\n",
       "    }\n",
       "\n",
       "    .dataframe thead th {\n",
       "        text-align: right;\n",
       "    }\n",
       "</style>\n",
       "<table border=\"1\" class=\"dataframe\">\n",
       "  <thead>\n",
       "    <tr style=\"text-align: right;\">\n",
       "      <th></th>\n",
       "      <th>image_id</th>\n",
       "      <th>label</th>\n",
       "    </tr>\n",
       "  </thead>\n",
       "  <tbody>\n",
       "    <tr>\n",
       "      <th>0</th>\n",
       "      <td>Train_0</td>\n",
       "      <td>3</td>\n",
       "    </tr>\n",
       "    <tr>\n",
       "      <th>1</th>\n",
       "      <td>Train_1</td>\n",
       "      <td>1</td>\n",
       "    </tr>\n",
       "    <tr>\n",
       "      <th>2</th>\n",
       "      <td>Train_2</td>\n",
       "      <td>0</td>\n",
       "    </tr>\n",
       "    <tr>\n",
       "      <th>3</th>\n",
       "      <td>Train_3</td>\n",
       "      <td>2</td>\n",
       "    </tr>\n",
       "    <tr>\n",
       "      <th>4</th>\n",
       "      <td>Train_4</td>\n",
       "      <td>0</td>\n",
       "    </tr>\n",
       "    <tr>\n",
       "      <th>...</th>\n",
       "      <td>...</td>\n",
       "      <td>...</td>\n",
       "    </tr>\n",
       "    <tr>\n",
       "      <th>1816</th>\n",
       "      <td>Train_1816</td>\n",
       "      <td>3</td>\n",
       "    </tr>\n",
       "    <tr>\n",
       "      <th>1817</th>\n",
       "      <td>Train_1817</td>\n",
       "      <td>0</td>\n",
       "    </tr>\n",
       "    <tr>\n",
       "      <th>1818</th>\n",
       "      <td>Train_1818</td>\n",
       "      <td>0</td>\n",
       "    </tr>\n",
       "    <tr>\n",
       "      <th>1819</th>\n",
       "      <td>Train_1819</td>\n",
       "      <td>2</td>\n",
       "    </tr>\n",
       "    <tr>\n",
       "      <th>1820</th>\n",
       "      <td>Train_1820</td>\n",
       "      <td>3</td>\n",
       "    </tr>\n",
       "  </tbody>\n",
       "</table>\n",
       "<p>1821 rows × 2 columns</p>\n",
       "</div>"
      ],
      "text/plain": [
       "        image_id  label\n",
       "0        Train_0      3\n",
       "1        Train_1      1\n",
       "2        Train_2      0\n",
       "3        Train_3      2\n",
       "4        Train_4      0\n",
       "...          ...    ...\n",
       "1816  Train_1816      3\n",
       "1817  Train_1817      0\n",
       "1818  Train_1818      0\n",
       "1819  Train_1819      2\n",
       "1820  Train_1820      3\n",
       "\n",
       "[1821 rows x 2 columns]"
      ]
     },
     "execution_count": 5,
     "metadata": {},
     "output_type": "execute_result"
    }
   ],
   "source": [
    "train = preprocess_csv(train)\n",
    "\n",
    "train"
   ]
  },
  {
   "cell_type": "markdown",
   "metadata": {},
   "source": [
    "### Let's look at class distribution"
   ]
  },
  {
   "cell_type": "code",
   "execution_count": 19,
   "metadata": {
    "execution": {
     "iopub.execute_input": "2023-05-11T16:26:05.472950Z",
     "iopub.status.busy": "2023-05-11T16:26:05.472554Z",
     "iopub.status.idle": "2023-05-11T16:26:05.710871Z",
     "shell.execute_reply": "2023-05-11T16:26:05.709495Z",
     "shell.execute_reply.started": "2023-05-11T16:26:05.472919Z"
    }
   },
   "outputs": [
    {
     "data": {
      "image/png": "[encoded data removed]",
      "text/plain": [
       "<Figure size 640x480 with 1 Axes>"
      ]
     },
     "metadata": {},
     "output_type": "display_data"
    }
   ],
   "source": [
    "plt.hist(train[\"label\"])\n",
    "plt.show()"
   ]
  },
  {
   "cell_type": "markdown",
   "metadata": {},
   "source": [
    "### Data is not balanced in relation to class 1 (\"healthy\"), so stratify split will be needed "
   ]
  },
  {
   "cell_type": "markdown",
   "metadata": {},
   "source": [
    "## Custom dataset specification"
   ]
  },
  {
   "cell_type": "code",
   "execution_count": 6,
   "metadata": {
    "execution": {
     "iopub.execute_input": "2023-05-11T17:58:40.133004Z",
     "iopub.status.busy": "2023-05-11T17:58:40.132585Z",
     "iopub.status.idle": "2023-05-11T17:58:40.145104Z",
     "shell.execute_reply": "2023-05-11T17:58:40.144295Z",
     "shell.execute_reply.started": "2023-05-11T17:58:40.132967Z"
    }
   },
   "outputs": [],
   "source": [
    "train, val = train_test_split(train, test_size = 0.2, random_state = 42, shuffle = True, stratify = train[\"label\"])"
   ]
  },
  {
   "cell_type": "code",
   "execution_count": 7,
   "metadata": {
    "execution": {
     "iopub.execute_input": "2023-05-11T17:58:41.334243Z",
     "iopub.status.busy": "2023-05-11T17:58:41.333817Z",
     "iopub.status.idle": "2023-05-11T17:58:41.344525Z",
     "shell.execute_reply": "2023-05-11T17:58:41.343482Z",
     "shell.execute_reply.started": "2023-05-11T17:58:41.334208Z"
    }
   },
   "outputs": [],
   "source": [
    "class CustomDataset(Dataset):\n",
    "    def __init__(self, path, csv, transform = None):\n",
    "        self.path = path\n",
    "        self.csv = csv\n",
    "        self.transform = transform\n",
    "        \n",
    "    def __len__(self):\n",
    "        return len(self.csv)\n",
    "    \n",
    "    def __getitem__(self, index):\n",
    "        img_path = os.path.join(self.path, self.csv.iloc[index, 0]) + \".jpg\"\n",
    "        img = cv2.imread(img_path)\n",
    "        img = cv2.cvtColor(img, cv2.COLOR_BGR2RGB)\n",
    "        \n",
    "        label = self.csv.iloc[index, 1]\n",
    "        label = torch.tensor(label)\n",
    "        \n",
    "        if self.transform:\n",
    "            aug = self.transform(image = img)\n",
    "            img = aug[\"image\"]\n",
    "            \n",
    "        return img, label"
   ]
  },
  {
   "cell_type": "code",
   "execution_count": 9,
   "metadata": {
    "execution": {
     "iopub.execute_input": "2023-05-11T17:58:46.011319Z",
     "iopub.status.busy": "2023-05-11T17:58:46.010970Z",
     "iopub.status.idle": "2023-05-11T17:58:46.020580Z",
     "shell.execute_reply": "2023-05-11T17:58:46.019519Z",
     "shell.execute_reply.started": "2023-05-11T17:58:46.011291Z"
    }
   },
   "outputs": [],
   "source": [
    "my_transform_train = A.Compose([\n",
    "    A.Resize(300, 300),\n",
    "    A.HorizontalFlip(p = 0.25), # some simple augmentation never hurts\n",
    "    A.VerticalFlip(p = 0.25),\n",
    "    A.RandomBrightnessContrast(p = 0.2),\n",
    "    A.Normalize(mean=[0.485, 0.456, 0.406], std=[0.229, 0.224, 0.225]), # ImageNet\n",
    "    ToTensorV2()\n",
    "])\n",
    "\n",
    "my_transform_val = A.Compose([\n",
    "    A.Resize(300, 300),\n",
    "    A.Normalize(mean=[0.485, 0.456, 0.406], std=[0.229, 0.224, 0.225]),\n",
    "    ToTensorV2()\n",
    "])"
   ]
  },
  {
   "cell_type": "code",
   "execution_count": 11,
   "metadata": {
    "execution": {
     "iopub.execute_input": "2023-05-11T17:59:00.409042Z",
     "iopub.status.busy": "2023-05-11T17:59:00.408690Z",
     "iopub.status.idle": "2023-05-11T17:59:00.415291Z",
     "shell.execute_reply": "2023-05-11T17:59:00.414238Z",
     "shell.execute_reply.started": "2023-05-11T17:59:00.409013Z"
    }
   },
   "outputs": [],
   "source": [
    "train_dataset = CustomDataset(dir_path, train, transform = my_transform_train)\n",
    "val_dataset = CustomDataset(dir_path, val, transform = my_transform_val)\n",
    "\n",
    "trainloader = DataLoader(train_dataset, batch_size = 64, shuffle = True)\n",
    "valloader = DataLoader(val_dataset, batch_size = 64, shuffle = True)"
   ]
  },
  {
   "cell_type": "markdown",
   "metadata": {},
   "source": [
    "## Model specification"
   ]
  },
  {
   "cell_type": "markdown",
   "metadata": {},
   "source": [
    "### We will fine-tune efficientnet_b3 by changing the head and freezing the remaining layers"
   ]
  },
  {
   "cell_type": "code",
   "execution_count": 22,
   "metadata": {
    "execution": {
     "iopub.execute_input": "2023-05-11T18:42:58.081037Z",
     "iopub.status.busy": "2023-05-11T18:42:58.080383Z",
     "iopub.status.idle": "2023-05-11T18:42:58.378762Z",
     "shell.execute_reply": "2023-05-11T18:42:58.377908Z",
     "shell.execute_reply.started": "2023-05-11T18:42:58.081005Z"
    }
   },
   "outputs": [],
   "source": [
    "model = models.efficientnet_b3(pretrained = True)"
   ]
  },
  {
   "cell_type": "code",
   "execution_count": 23,
   "metadata": {
    "execution": {
     "iopub.execute_input": "2023-05-11T18:43:00.135008Z",
     "iopub.status.busy": "2023-05-11T18:43:00.134663Z",
     "iopub.status.idle": "2023-05-11T18:43:00.144380Z",
     "shell.execute_reply": "2023-05-11T18:43:00.143477Z",
     "shell.execute_reply.started": "2023-05-11T18:43:00.134981Z"
    }
   },
   "outputs": [],
   "source": [
    "for param in model.parameters(): # freeze all params\n",
    "    param.requires_grad = False"
   ]
  },
  {
   "cell_type": "code",
   "execution_count": 24,
   "metadata": {
    "execution": {
     "iopub.execute_input": "2023-05-11T18:43:01.199399Z",
     "iopub.status.busy": "2023-05-11T18:43:01.198388Z",
     "iopub.status.idle": "2023-05-11T18:43:01.206606Z",
     "shell.execute_reply": "2023-05-11T18:43:01.205391Z",
     "shell.execute_reply.started": "2023-05-11T18:43:01.199311Z"
    }
   },
   "outputs": [],
   "source": [
    "# custom head with 2 linear layers and dropout\n",
    "class classifier_head(nn.Module):\n",
    "    def __init__(self):\n",
    "        super(classifier_head, self).__init__()\n",
    "        self.fc1 = nn.Linear(1536, 128)\n",
    "        self.fc2 = nn.Linear(128, 4)\n",
    "        self.relu = nn.ReLU()\n",
    "        self.dropout = nn.Dropout(p = 0.15)\n",
    "        \n",
    "    def forward(self, x):\n",
    "        x = self.dropout(x)\n",
    "        x = self.relu(self.fc1(x))\n",
    "        x = self.fc2(x)\n",
    "        \n",
    "        return x"
   ]
  },
  {
   "cell_type": "code",
   "execution_count": 25,
   "metadata": {
    "execution": {
     "iopub.execute_input": "2023-05-11T18:43:02.894842Z",
     "iopub.status.busy": "2023-05-11T18:43:02.894173Z",
     "iopub.status.idle": "2023-05-11T18:43:02.902094Z",
     "shell.execute_reply": "2023-05-11T18:43:02.901170Z",
     "shell.execute_reply.started": "2023-05-11T18:43:02.894809Z"
    }
   },
   "outputs": [],
   "source": [
    "model.classifier = classifier_head()"
   ]
  },
  {
   "cell_type": "markdown",
   "metadata": {},
   "source": [
    "## Train"
   ]
  },
  {
   "cell_type": "code",
   "execution_count": null,
   "metadata": {
    "tags": []
   },
   "outputs": [],
   "source": [
    "# define train func\n",
    "model.to(device) # model was trained on GPU\n",
    "\n",
    "wandb.init(project=\"plant_pathology\", name=\"training_run\") # track training  \n",
    "wandb.watch(model)\n",
    "\n",
    "optimizer = torch.optim.Adam(model.parameters(), lr=3e-3)\n",
    "criterion = CrossEntropyLoss()\n",
    "scheduler = torch.optim.lr_scheduler.StepLR(optimizer, step_size=5, gamma=0.8)\n",
    "num_epoch = 119\n",
    "\n",
    "best_model_wts = model.state_dict()\n",
    "best_f1 = 0.0\n",
    "\n",
    "for epoch in range(num_epoch):\n",
    "    running_loss_train = 0\n",
    "    processed_data_train = 0\n",
    "    running_loss_val = 0\n",
    "    processed_data_val = 0\n",
    "    predicted = []\n",
    "    true = []\n",
    "    model.train()\n",
    "    for data, target in tqdm(trainloader, total = len(trainloader)):\n",
    "        data = data.float().to(device)\n",
    "        target = target.to(device)\n",
    "        optimizer.zero_grad()\n",
    "        probs = model(data)\n",
    "        loss = criterion(probs, target)\n",
    "        loss.backward()\n",
    "        optimizer.step()\n",
    "        running_loss_train += loss.item() * data.size(0)\n",
    "        processed_data_train += data.size(0)\n",
    "    train_loss = running_loss_train / processed_data_train\n",
    "    model.eval()\n",
    "    with torch.no_grad():\n",
    "        for data, target in tqdm(valloader, total = len(valloader)):\n",
    "            data = data.float().to(device)\n",
    "            target = target.to(device)\n",
    "            probs = model(data)\n",
    "            loss = criterion(probs, target)\n",
    "            running_loss_val += loss.item() * data.size(0)\n",
    "            processed_data_val += data.size(0)\n",
    "            predicted.append(np.argmax(probs.cpu(), axis = 1))\n",
    "            true.append(target.cpu().numpy())\n",
    "        val_loss = running_loss_val / processed_data_val\n",
    "        val_accuracy = accuracy_score(np.concatenate(true), np.concatenate(predicted))\n",
    "        val_f1 = f1_score(np.concatenate(true), np.concatenate(predicted), average='macro')\n",
    "        \n",
    "        if val_f1 > best_f1:\n",
    "                best_f1 = val_f1\n",
    "                best_model_wts = model.state_dict()\n",
    "        \n",
    "    wandb.log({\n",
    "            'epoch': epoch + 1,\n",
    "            'train_loss': train_loss,\n",
    "            'val_loss': val_loss,\n",
    "            'accuracy': val_accuracy,\n",
    "            'f1_score': val_f1\n",
    "        })\n",
    "    # not necessary as we are tracking via wandb\n",
    "    #print(\"Epoch\" + \" \" + str(epoch) + \":\", \"train_loss:\" + str(train_loss), \"val_loss:\" + str(val_loss), \"val_f1:\" + str(val_f1), \"val_acc:\" + str(val_accuracy))\n",
    "    scheduler.step()\n",
    "wandb.finish()"
   ]
  },
  {
   "cell_type": "code",
   "execution_count": 29,
   "metadata": {
    "execution": {
     "iopub.execute_input": "2023-05-11T20:56:03.649930Z",
     "iopub.status.busy": "2023-05-11T20:56:03.649450Z",
     "iopub.status.idle": "2023-05-11T20:56:10.008383Z",
     "shell.execute_reply": "2023-05-11T20:56:10.007545Z",
     "shell.execute_reply.started": "2023-05-11T20:56:03.649894Z"
    }
   },
   "outputs": [
    {
     "data": {
      "text/html": [
       "Waiting for W&B process to finish... <strong style=\"color:green\">(success).</strong>"
      ],
      "text/plain": [
       "<IPython.core.display.HTML object>"
      ]
     },
     "metadata": {},
     "output_type": "display_data"
    },
    {
     "data": {
      "text/html": [
       "<style>\n",
       "    table.wandb td:nth-child(1) { padding: 0 10px; text-align: left ; width: auto;} td:nth-child(2) {text-align: left ; width: 100%}\n",
       "    .wandb-row { display: flex; flex-direction: row; flex-wrap: wrap; justify-content: flex-start; width: 100% }\n",
       "    .wandb-col { display: flex; flex-direction: column; flex-basis: 100%; flex: 1; padding: 10px; }\n",
       "    </style>\n",
       "<div class=\"wandb-row\"><div class=\"wandb-col\"><h3>Run history:</h3><br/><table class=\"wandb\"><tr><td>accuracy</td><td>▁▆▄▆▅▆▅▄▇▇▇█▇█▇█▇▇█▇▇▇▇█▇▇▇▇█▇▇▇▇▇▇▇▇█▇█</td></tr><tr><td>epoch</td><td>▁▁▁▂▂▂▂▂▂▃▃▃▃▃▃▄▄▄▄▄▅▅▅▅▅▅▆▆▆▆▆▇▇▇▇▇▇███</td></tr><tr><td>f1_score</td><td>▁▅▅▅▅▆▆▆▇█▇▇▇▇▇▇▇▇▇▇█▇▇▇▇▇▇▇▇▇▇▇▇▇▇▇▇▇▇▇</td></tr><tr><td>train_loss</td><td>█▄▃▃▃▂▂▂▂▂▂▂▂▁▂▁▁▁▁▁▁▁▁▁▁▁▁▁▁▁▁▁▁▁▁▁▁▁▁▁</td></tr><tr><td>val_loss</td><td>█▂▂▃▂▁▃▃▁▁▁▂▁▁▁▁▁▁▁▁▂▁▁▁▂▁▁▂▁▁▂▁▂▁▁▁▂▁▁▁</td></tr></table><br/></div><div class=\"wandb-col\"><h3>Run summary:</h3><br/><table class=\"wandb\"><tr><td>accuracy</td><td>0.85205</td></tr><tr><td>epoch</td><td>119</td></tr><tr><td>f1_score</td><td>0.74808</td></tr><tr><td>train_loss</td><td>0.14075</td></tr><tr><td>val_loss</td><td>0.44824</td></tr></table><br/></div></div>"
      ],
      "text/plain": [
       "<IPython.core.display.HTML object>"
      ]
     },
     "metadata": {},
     "output_type": "display_data"
    },
    {
     "data": {
      "text/html": [
       " View run <strong style=\"color:#cdcd00\">training_run</strong> at: <a href='https://wandb.ai/baozhg/plant_pathology/runs/krgq96l9' target=\"_blank\">https://wandb.ai/baozhg/plant_pathology/runs/krgq96l9</a><br/>Synced 6 W&B file(s), 0 media file(s), 0 artifact file(s) and 0 other file(s)"
      ],
      "text/plain": [
       "<IPython.core.display.HTML object>"
      ]
     },
     "metadata": {},
     "output_type": "display_data"
    },
    {
     "data": {
      "text/html": [
       "Find logs at: <code>./wandb/run-20230511_184304-krgq96l9/logs</code>"
      ],
      "text/plain": [
       "<IPython.core.display.HTML object>"
      ]
     },
     "metadata": {},
     "output_type": "display_data"
    }
   ],
   "source": [
    "wandb.finish()"
   ]
  },
  {
   "cell_type": "markdown",
   "metadata": {},
   "source": [
    "### We got 0.748 f1 macro score and 0.852 accuracy on validation which is a pretty good result for unbalanced data"
   ]
  },
  {
   "cell_type": "code",
   "execution_count": 33,
   "metadata": {
    "execution": {
     "iopub.execute_input": "2023-05-11T21:00:07.151269Z",
     "iopub.status.busy": "2023-05-11T21:00:07.150274Z",
     "iopub.status.idle": "2023-05-11T21:00:07.264093Z",
     "shell.execute_reply": "2023-05-11T21:00:07.263138Z",
     "shell.execute_reply.started": "2023-05-11T21:00:07.151212Z"
    }
   },
   "outputs": [],
   "source": [
    "# save model for eval\n",
    "torch.save(best_model_wts, \"./weights\")"
   ]
  }
 ],
 "metadata": {
  "kernelspec": {
   "display_name": "Python 3 (ipykernel)",
   "language": "python",
   "name": "python3"
  },
  "language_info": {
   "codemirror_mode": {
    "name": "ipython",
    "version": 3
   },
   "file_extension": ".py",
   "mimetype": "text/x-python",
   "name": "python",
   "nbconvert_exporter": "python",
   "pygments_lexer": "ipython3",
   "version": "3.9.13"
  }
 },
 "nbformat": 4,
 "nbformat_minor": 4
}
